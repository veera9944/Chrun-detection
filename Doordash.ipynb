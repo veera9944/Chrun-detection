{
 "cells": [
  {
   "cell_type": "code",
   "execution_count": 1,
   "metadata": {
    "colab": {},
    "colab_type": "code",
    "id": "jSMjEHs1Wad2"
   },
   "outputs": [],
   "source": [
    "import tweepy\n",
    "import pandas as pd\n",
    "import pickle\n",
    "\n",
    "# Authentication\n",
    "consumer_api_key = 'xQJqJI7U49K175YaRxQIfbuQW'\n",
    "consumer_api_secret_key = 'ZHXzjh6Vw5BHF77NJn6hEw8iKpWlc8ZmWmRuLNuyMEpzABzGbT'\n",
    "\n",
    "access_token = '1233446515554705408-t2FeSvxBwSydx0HUKrcdACgqwcPkbF'\n",
    "access_token_secret = '5jrcKajK5ZG5F1C520QrOHydqr8O8Gdr85Hl5BDCyWE4P'\n",
    " \n",
    "auth = tweepy.OAuthHandler(consumer_api_key, consumer_api_secret_key)\n",
    "auth.set_access_token(access_token, access_token_secret)\n",
    "api = tweepy.API(auth)\n",
    "\n"
   ]
  },
  {
   "cell_type": "code",
   "execution_count": 2,
   "metadata": {},
   "outputs": [],
   "source": [
    "api = tweepy.API(auth, wait_on_rate_limit=True)"
   ]
  },
  {
   "cell_type": "code",
   "execution_count": 3,
   "metadata": {
    "colab": {},
    "colab_type": "code",
    "id": "M13tZK3ZWdtX"
   },
   "outputs": [],
   "source": [
    "def getTweets(searchString, df):\n",
    "    for tweet in tweepy.Cursor(api.search_tweets, q=searchString, lang='en',until='2021-11-09').items(10000):\n",
    "        df = df.append(pd.Series([tweet.user.screen_name, tweet.created_at, tweet.user.location, tweet.text], index=df.columns), ignore_index=True)\n",
    "    return df"
   ]
  },
  {
   "cell_type": "code",
   "execution_count": 4,
   "metadata": {
    "colab": {},
    "colab_type": "code",
    "id": "dnx3yGz-Weic"
   },
   "outputs": [],
   "source": [
    "df1 = pd.DataFrame(columns=['screen_name', 'date_time', 'location', 'text'])"
   ]
  },
  {
   "cell_type": "code",
   "execution_count": null,
   "metadata": {
    "colab": {
     "base_uri": "https://localhost:8080/",
     "height": 50
    },
    "colab_type": "code",
    "id": "0dEIUJTSWhxO",
    "outputId": "6abc81e9-ea0f-4ccc-f5f2-edf9e42474ee"
   },
   "outputs": [
    {
     "name": "stderr",
     "output_type": "stream",
     "text": [
      "Rate limit reached. Sleeping for: 174\n",
      "Rate limit reached. Sleeping for: 834\n",
      "Rate limit reached. Sleeping for: 834\n",
      "Rate limit reached. Sleeping for: 842\n"
     ]
    }
   ],
   "source": [
    "df1 = getTweets('Doordash', df1)"
   ]
  },
  {
   "cell_type": "code",
   "execution_count": null,
   "metadata": {
    "colab": {
     "base_uri": "https://localhost:8080/",
     "height": 34
    },
    "colab_type": "code",
    "id": "XVZjZ5sTWid5",
    "outputId": "43532faa-4f7f-48da-ac85-58825647a9f4"
   },
   "outputs": [],
   "source": [
    "df1.shape"
   ]
  },
  {
   "cell_type": "code",
   "execution_count": null,
   "metadata": {},
   "outputs": [],
   "source": [
    "df1"
   ]
  },
  {
   "cell_type": "code",
   "execution_count": null,
   "metadata": {
    "colab": {},
    "colab_type": "code",
    "id": "hFaTwgsImv_R"
   },
   "outputs": [],
   "source": [
    "df1.to_csv(r'C:\\Users\\veera\\Desktop\\door_dash_32.csv')"
   ]
  },
  {
   "cell_type": "code",
   "execution_count": null,
   "metadata": {},
   "outputs": [],
   "source": []
  }
 ],
 "metadata": {
  "colab": {
   "collapsed_sections": [],
   "name": "DisneyPlus",
   "provenance": []
  },
  "kernelspec": {
   "display_name": "Python 3",
   "language": "python",
   "name": "python3"
  },
  "language_info": {
   "codemirror_mode": {
    "name": "ipython",
    "version": 3
   },
   "file_extension": ".py",
   "mimetype": "text/x-python",
   "name": "python",
   "nbconvert_exporter": "python",
   "pygments_lexer": "ipython3",
   "version": "3.8.5"
  }
 },
 "nbformat": 4,
 "nbformat_minor": 1
}
