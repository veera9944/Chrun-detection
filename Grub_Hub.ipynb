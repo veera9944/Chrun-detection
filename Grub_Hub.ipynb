{
 "cells": [
  {
   "cell_type": "code",
   "execution_count": 1,
   "metadata": {
    "colab": {},
    "colab_type": "code",
    "id": "jSMjEHs1Wad2"
   },
   "outputs": [],
   "source": [
    "import tweepy\n",
    "import pandas as pd\n",
    "import pickle\n",
    "\n",
    "# Authentication\n",
    "consumer_api_key = 'xQJqJI7U49K175YaRxQIfbuQW'\n",
    "consumer_api_secret_key = 'ZHXzjh6Vw5BHF77NJn6hEw8iKpWlc8ZmWmRuLNuyMEpzABzGbT'\n",
    "\n",
    "access_token = '1233446515554705408-t2FeSvxBwSydx0HUKrcdACgqwcPkbF'\n",
    "access_token_secret = '5jrcKajK5ZG5F1C520QrOHydqr8O8Gdr85Hl5BDCyWE4P'\n",
    " \n",
    "auth = tweepy.OAuthHandler(consumer_api_key, consumer_api_secret_key)\n",
    "auth.set_access_token(access_token, access_token_secret)\n",
    "api = tweepy.API(auth)\n",
    "\n"
   ]
  },
  {
   "cell_type": "code",
   "execution_count": 2,
   "metadata": {},
   "outputs": [],
   "source": [
    "api = tweepy.API(auth, wait_on_rate_limit=True)"
   ]
  },
  {
   "cell_type": "code",
   "execution_count": 3,
   "metadata": {
    "colab": {},
    "colab_type": "code",
    "id": "M13tZK3ZWdtX"
   },
   "outputs": [],
   "source": [
    "def getTweets(searchString, df):\n",
    "    for tweet in tweepy.Cursor(api.search_tweets, q=searchString, lang='en',until='2021-11-10').items(10000):\n",
    "        df = df.append(pd.Series([tweet.user.screen_name, tweet.created_at, tweet.user.location, tweet.text], index=df.columns), ignore_index=True)\n",
    "    return df"
   ]
  },
  {
   "cell_type": "code",
   "execution_count": 4,
   "metadata": {
    "colab": {},
    "colab_type": "code",
    "id": "dnx3yGz-Weic"
   },
   "outputs": [],
   "source": [
    "df1 = pd.DataFrame(columns=['screen_name', 'date_time', 'location', 'text'])"
   ]
  },
  {
   "cell_type": "code",
   "execution_count": 5,
   "metadata": {
    "colab": {
     "base_uri": "https://localhost:8080/",
     "height": 50
    },
    "colab_type": "code",
    "id": "0dEIUJTSWhxO",
    "outputId": "6abc81e9-ea0f-4ccc-f5f2-edf9e42474ee"
   },
   "outputs": [
    {
     "name": "stderr",
     "output_type": "stream",
     "text": [
      "Rate limit reached. Sleeping for: 800\n"
     ]
    }
   ],
   "source": [
    "df1 = getTweets('Grubhub', df1)\n",
    "\n"
   ]
  },
  {
   "cell_type": "code",
   "execution_count": 6,
   "metadata": {
    "colab": {
     "base_uri": "https://localhost:8080/",
     "height": 34
    },
    "colab_type": "code",
    "id": "XVZjZ5sTWid5",
    "outputId": "43532faa-4f7f-48da-ac85-58825647a9f4"
   },
   "outputs": [
    {
     "data": {
      "text/plain": [
       "(3215, 4)"
      ]
     },
     "execution_count": 6,
     "metadata": {},
     "output_type": "execute_result"
    }
   ],
   "source": [
    "df1.shape"
   ]
  },
  {
   "cell_type": "code",
   "execution_count": 7,
   "metadata": {},
   "outputs": [
    {
     "data": {
      "text/html": [
       "<div>\n",
       "<style scoped>\n",
       "    .dataframe tbody tr th:only-of-type {\n",
       "        vertical-align: middle;\n",
       "    }\n",
       "\n",
       "    .dataframe tbody tr th {\n",
       "        vertical-align: top;\n",
       "    }\n",
       "\n",
       "    .dataframe thead th {\n",
       "        text-align: right;\n",
       "    }\n",
       "</style>\n",
       "<table border=\"1\" class=\"dataframe\">\n",
       "  <thead>\n",
       "    <tr style=\"text-align: right;\">\n",
       "      <th></th>\n",
       "      <th>screen_name</th>\n",
       "      <th>date_time</th>\n",
       "      <th>location</th>\n",
       "      <th>text</th>\n",
       "    </tr>\n",
       "  </thead>\n",
       "  <tbody>\n",
       "    <tr>\n",
       "      <th>0</th>\n",
       "      <td>slapthebowler</td>\n",
       "      <td>2021-11-09 23:58:43+00:00</td>\n",
       "      <td>Outside on the grill...</td>\n",
       "      <td>RT @AngryManTV: I've never ordered using Grubh...</td>\n",
       "    </tr>\n",
       "    <tr>\n",
       "      <th>1</th>\n",
       "      <td>RubberSamus</td>\n",
       "      <td>2021-11-09 23:53:50+00:00</td>\n",
       "      <td></td>\n",
       "      <td>@Koutanabby O: IS THAT A GRUBHUB DRONE WHAT IS...</td>\n",
       "    </tr>\n",
       "    <tr>\n",
       "      <th>2</th>\n",
       "      <td>SlangeVarDave</td>\n",
       "      <td>2021-11-09 23:53:05+00:00</td>\n",
       "      <td>USA</td>\n",
       "      <td>@tharealmeezus I have no idea if he ordered gr...</td>\n",
       "    </tr>\n",
       "    <tr>\n",
       "      <th>3</th>\n",
       "      <td>EagleCommCU</td>\n",
       "      <td>2021-11-09 23:47:00+00:00</td>\n",
       "      <td>Become a member today</td>\n",
       "      <td>While pizza delivery has been around forever, ...</td>\n",
       "    </tr>\n",
       "    <tr>\n",
       "      <th>4</th>\n",
       "      <td>Mitten1011</td>\n",
       "      <td>2021-11-09 23:45:59+00:00</td>\n",
       "      <td>Central Jersey</td>\n",
       "      <td>@Grubhub_Care Is there a code for the grubhub ...</td>\n",
       "    </tr>\n",
       "    <tr>\n",
       "      <th>...</th>\n",
       "      <td>...</td>\n",
       "      <td>...</td>\n",
       "      <td>...</td>\n",
       "      <td>...</td>\n",
       "    </tr>\n",
       "    <tr>\n",
       "      <th>3210</th>\n",
       "      <td>obsolete29</td>\n",
       "      <td>2021-11-02 11:17:27+00:00</td>\n",
       "      <td>Nashville, TN</td>\n",
       "      <td>RT @DanPriceSeattle: Some delivery apps create...</td>\n",
       "    </tr>\n",
       "    <tr>\n",
       "      <th>3211</th>\n",
       "      <td>supernana</td>\n",
       "      <td>2021-11-02 11:10:19+00:00</td>\n",
       "      <td>Gotham</td>\n",
       "      <td>https://t.co/uxt9JCXrEP\\nHappy Election Day, \\...</td>\n",
       "    </tr>\n",
       "    <tr>\n",
       "      <th>3212</th>\n",
       "      <td>warriorrabbit</td>\n",
       "      <td>2021-11-02 10:56:45+00:00</td>\n",
       "      <td>San Diego</td>\n",
       "      <td>RT @DanPriceSeattle: Some delivery apps create...</td>\n",
       "    </tr>\n",
       "    <tr>\n",
       "      <th>3213</th>\n",
       "      <td>warriorrabbit</td>\n",
       "      <td>2021-11-02 10:55:56+00:00</td>\n",
       "      <td>San Diego</td>\n",
       "      <td>Yelp is a partner in ripping off restaurants. ...</td>\n",
       "    </tr>\n",
       "    <tr>\n",
       "      <th>3214</th>\n",
       "      <td>MJEM70</td>\n",
       "      <td>2021-11-02 10:54:48+00:00</td>\n",
       "      <td></td>\n",
       "      <td>RT @DanPriceSeattle: Some delivery apps create...</td>\n",
       "    </tr>\n",
       "  </tbody>\n",
       "</table>\n",
       "<p>3215 rows × 4 columns</p>\n",
       "</div>"
      ],
      "text/plain": [
       "        screen_name                 date_time                 location  \\\n",
       "0     slapthebowler 2021-11-09 23:58:43+00:00  Outside on the grill...   \n",
       "1       RubberSamus 2021-11-09 23:53:50+00:00                            \n",
       "2     SlangeVarDave 2021-11-09 23:53:05+00:00                      USA   \n",
       "3       EagleCommCU 2021-11-09 23:47:00+00:00    Become a member today   \n",
       "4        Mitten1011 2021-11-09 23:45:59+00:00           Central Jersey   \n",
       "...             ...                       ...                      ...   \n",
       "3210     obsolete29 2021-11-02 11:17:27+00:00            Nashville, TN   \n",
       "3211      supernana 2021-11-02 11:10:19+00:00                   Gotham   \n",
       "3212  warriorrabbit 2021-11-02 10:56:45+00:00                San Diego   \n",
       "3213  warriorrabbit 2021-11-02 10:55:56+00:00                San Diego   \n",
       "3214         MJEM70 2021-11-02 10:54:48+00:00                            \n",
       "\n",
       "                                                   text  \n",
       "0     RT @AngryManTV: I've never ordered using Grubh...  \n",
       "1     @Koutanabby O: IS THAT A GRUBHUB DRONE WHAT IS...  \n",
       "2     @tharealmeezus I have no idea if he ordered gr...  \n",
       "3     While pizza delivery has been around forever, ...  \n",
       "4     @Grubhub_Care Is there a code for the grubhub ...  \n",
       "...                                                 ...  \n",
       "3210  RT @DanPriceSeattle: Some delivery apps create...  \n",
       "3211  https://t.co/uxt9JCXrEP\\nHappy Election Day, \\...  \n",
       "3212  RT @DanPriceSeattle: Some delivery apps create...  \n",
       "3213  Yelp is a partner in ripping off restaurants. ...  \n",
       "3214  RT @DanPriceSeattle: Some delivery apps create...  \n",
       "\n",
       "[3215 rows x 4 columns]"
      ]
     },
     "execution_count": 7,
     "metadata": {},
     "output_type": "execute_result"
    }
   ],
   "source": [
    "df1"
   ]
  },
  {
   "cell_type": "code",
   "execution_count": 8,
   "metadata": {
    "colab": {},
    "colab_type": "code",
    "id": "hFaTwgsImv_R"
   },
   "outputs": [],
   "source": [
    "df1.to_csv(r'C:\\Users\\veera\\Desktop\\grubhub_33.csv')"
   ]
  },
  {
   "cell_type": "code",
   "execution_count": null,
   "metadata": {},
   "outputs": [],
   "source": []
  }
 ],
 "metadata": {
  "colab": {
   "collapsed_sections": [],
   "name": "DisneyPlus",
   "provenance": []
  },
  "kernelspec": {
   "display_name": "Python 3",
   "language": "python",
   "name": "python3"
  },
  "language_info": {
   "codemirror_mode": {
    "name": "ipython",
    "version": 3
   },
   "file_extension": ".py",
   "mimetype": "text/x-python",
   "name": "python",
   "nbconvert_exporter": "python",
   "pygments_lexer": "ipython3",
   "version": "3.8.5"
  }
 },
 "nbformat": 4,
 "nbformat_minor": 1
}
