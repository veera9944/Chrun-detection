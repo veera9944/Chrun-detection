{
 "cells": [
  {
   "cell_type": "code",
   "execution_count": 1,
   "metadata": {
    "colab": {},
    "colab_type": "code",
    "id": "jSMjEHs1Wad2"
   },
   "outputs": [],
   "source": [
    "import tweepy\n",
    "import pandas as pd\n",
    "import pickle\n",
    "\n",
    "# Authentication\n",
    "consumer_api_key = 'xQJqJI7U49K175YaRxQIfbuQW'\n",
    "consumer_api_secret_key = 'ZHXzjh6Vw5BHF77NJn6hEw8iKpWlc8ZmWmRuLNuyMEpzABzGbT'\n",
    "\n",
    "access_token = '1233446515554705408-t2FeSvxBwSydx0HUKrcdACgqwcPkbF'\n",
    "access_token_secret = '5jrcKajK5ZG5F1C520QrOHydqr8O8Gdr85Hl5BDCyWE4P'\n",
    " \n",
    "auth = tweepy.OAuthHandler(consumer_api_key, consumer_api_secret_key)\n",
    "auth.set_access_token(access_token, access_token_secret)\n",
    "api = tweepy.API(auth)\n",
    "\n"
   ]
  },
  {
   "cell_type": "code",
   "execution_count": 2,
   "metadata": {},
   "outputs": [],
   "source": [
    "api = tweepy.API(auth, wait_on_rate_limit=True)"
   ]
  },
  {
   "cell_type": "code",
   "execution_count": 3,
   "metadata": {
    "colab": {},
    "colab_type": "code",
    "id": "M13tZK3ZWdtX"
   },
   "outputs": [],
   "source": [
    "def getTweets(searchString, df):\n",
    "    for tweet in tweepy.Cursor(api.search_tweets, q=searchString, lang='en',until='2021-11-10').items(10000):\n",
    "        df = df.append(pd.Series([tweet.user.screen_name, tweet.created_at, tweet.user.location, tweet.text], index=df.columns), ignore_index=True)\n",
    "    return df"
   ]
  },
  {
   "cell_type": "code",
   "execution_count": 4,
   "metadata": {
    "colab": {},
    "colab_type": "code",
    "id": "dnx3yGz-Weic"
   },
   "outputs": [],
   "source": [
    "df1 = pd.DataFrame(columns=['screen_name', 'date_time', 'location', 'text'])"
   ]
  },
  {
   "cell_type": "code",
   "execution_count": 5,
   "metadata": {
    "colab": {
     "base_uri": "https://localhost:8080/",
     "height": 50
    },
    "colab_type": "code",
    "id": "0dEIUJTSWhxO",
    "outputId": "6abc81e9-ea0f-4ccc-f5f2-edf9e42474ee"
   },
   "outputs": [
    {
     "name": "stderr",
     "output_type": "stream",
     "text": [
      "Rate limit reached. Sleeping for: 699\n",
      "Rate limit reached. Sleeping for: 842\n",
      "Rate limit reached. Sleeping for: 838\n",
      "Rate limit reached. Sleeping for: 840\n"
     ]
    }
   ],
   "source": [
    "df1 = getTweets('UberEats', df1)\n",
    "\n"
   ]
  },
  {
   "cell_type": "code",
   "execution_count": 6,
   "metadata": {
    "colab": {
     "base_uri": "https://localhost:8080/",
     "height": 34
    },
    "colab_type": "code",
    "id": "XVZjZ5sTWid5",
    "outputId": "43532faa-4f7f-48da-ac85-58825647a9f4"
   },
   "outputs": [
    {
     "data": {
      "text/plain": [
       "(10000, 4)"
      ]
     },
     "execution_count": 6,
     "metadata": {},
     "output_type": "execute_result"
    }
   ],
   "source": [
    "df1.shape"
   ]
  },
  {
   "cell_type": "code",
   "execution_count": 7,
   "metadata": {},
   "outputs": [
    {
     "data": {
      "text/html": [
       "<div>\n",
       "<style scoped>\n",
       "    .dataframe tbody tr th:only-of-type {\n",
       "        vertical-align: middle;\n",
       "    }\n",
       "\n",
       "    .dataframe tbody tr th {\n",
       "        vertical-align: top;\n",
       "    }\n",
       "\n",
       "    .dataframe thead th {\n",
       "        text-align: right;\n",
       "    }\n",
       "</style>\n",
       "<table border=\"1\" class=\"dataframe\">\n",
       "  <thead>\n",
       "    <tr style=\"text-align: right;\">\n",
       "      <th></th>\n",
       "      <th>screen_name</th>\n",
       "      <th>date_time</th>\n",
       "      <th>location</th>\n",
       "      <th>text</th>\n",
       "    </tr>\n",
       "  </thead>\n",
       "  <tbody>\n",
       "    <tr>\n",
       "      <th>0</th>\n",
       "      <td>iberoemello</td>\n",
       "      <td>2021-11-09 23:59:41+00:00</td>\n",
       "      <td>SC ⚠️</td>\n",
       "      <td>@UberEats thank you for your UberCigars servic...</td>\n",
       "    </tr>\n",
       "    <tr>\n",
       "      <th>1</th>\n",
       "      <td>slapthebowler</td>\n",
       "      <td>2021-11-09 23:58:43+00:00</td>\n",
       "      <td>Outside on the grill...</td>\n",
       "      <td>RT @AngryManTV: I've never ordered using Grubh...</td>\n",
       "    </tr>\n",
       "    <tr>\n",
       "      <th>2</th>\n",
       "      <td>xoxoreg</td>\n",
       "      <td>2021-11-09 23:58:09+00:00</td>\n",
       "      <td></td>\n",
       "      <td>Who will watch Christmas classics with me and ...</td>\n",
       "    </tr>\n",
       "    <tr>\n",
       "      <th>3</th>\n",
       "      <td>LissSelenators</td>\n",
       "      <td>2021-11-09 23:58:05+00:00</td>\n",
       "      <td></td>\n",
       "      <td>@UberEats hello good i need help with an order...</td>\n",
       "    </tr>\n",
       "    <tr>\n",
       "      <th>4</th>\n",
       "      <td>bmiyares0217</td>\n",
       "      <td>2021-11-09 23:56:48+00:00</td>\n",
       "      <td></td>\n",
       "      <td>Meant to say UberEats Pass, Never works ** @Ub...</td>\n",
       "    </tr>\n",
       "    <tr>\n",
       "      <th>...</th>\n",
       "      <td>...</td>\n",
       "      <td>...</td>\n",
       "      <td>...</td>\n",
       "      <td>...</td>\n",
       "    </tr>\n",
       "    <tr>\n",
       "      <th>9995</th>\n",
       "      <td>sayohina3407</td>\n",
       "      <td>2021-11-03 11:22:54+00:00</td>\n",
       "      <td>よろぴくみん共和国連邦 相棒@chiro80202152</td>\n",
       "      <td>@fJPUZWmXAdNcNwQ UberEATS</td>\n",
       "    </tr>\n",
       "    <tr>\n",
       "      <th>9996</th>\n",
       "      <td>TweedyBixler</td>\n",
       "      <td>2021-11-03 11:22:40+00:00</td>\n",
       "      <td>Jupiter, FL</td>\n",
       "      <td>Tonight, I'll be eating your mom and slurping ...</td>\n",
       "    </tr>\n",
       "    <tr>\n",
       "      <th>9997</th>\n",
       "      <td>afranknicholson</td>\n",
       "      <td>2021-11-03 11:22:27+00:00</td>\n",
       "      <td></td>\n",
       "      <td>@HullCity @UberEats Ingram!</td>\n",
       "    </tr>\n",
       "    <tr>\n",
       "      <th>9998</th>\n",
       "      <td>TONYdeBOSS</td>\n",
       "      <td>2021-11-03 11:21:26+00:00</td>\n",
       "      <td>Anloga, Volta Ghana</td>\n",
       "      <td>RT @Kaz7ii: No way Ronaldo's got more Player o...</td>\n",
       "    </tr>\n",
       "    <tr>\n",
       "      <th>9999</th>\n",
       "      <td>L14M_L33</td>\n",
       "      <td>2021-11-03 11:21:06+00:00</td>\n",
       "      <td></td>\n",
       "      <td>@UberEats I ordered McDonald’s breakfast a hou...</td>\n",
       "    </tr>\n",
       "  </tbody>\n",
       "</table>\n",
       "<p>10000 rows × 4 columns</p>\n",
       "</div>"
      ],
      "text/plain": [
       "          screen_name                 date_time                      location  \\\n",
       "0         iberoemello 2021-11-09 23:59:41+00:00                         SC ⚠️   \n",
       "1       slapthebowler 2021-11-09 23:58:43+00:00       Outside on the grill...   \n",
       "2             xoxoreg 2021-11-09 23:58:09+00:00                                 \n",
       "3      LissSelenators 2021-11-09 23:58:05+00:00                                 \n",
       "4        bmiyares0217 2021-11-09 23:56:48+00:00                                 \n",
       "...               ...                       ...                           ...   \n",
       "9995     sayohina3407 2021-11-03 11:22:54+00:00  よろぴくみん共和国連邦 相棒@chiro80202152   \n",
       "9996     TweedyBixler 2021-11-03 11:22:40+00:00                   Jupiter, FL   \n",
       "9997  afranknicholson 2021-11-03 11:22:27+00:00                                 \n",
       "9998       TONYdeBOSS 2021-11-03 11:21:26+00:00           Anloga, Volta Ghana   \n",
       "9999         L14M_L33 2021-11-03 11:21:06+00:00                                 \n",
       "\n",
       "                                                   text  \n",
       "0     @UberEats thank you for your UberCigars servic...  \n",
       "1     RT @AngryManTV: I've never ordered using Grubh...  \n",
       "2     Who will watch Christmas classics with me and ...  \n",
       "3     @UberEats hello good i need help with an order...  \n",
       "4     Meant to say UberEats Pass, Never works ** @Ub...  \n",
       "...                                                 ...  \n",
       "9995                          @fJPUZWmXAdNcNwQ UberEATS  \n",
       "9996  Tonight, I'll be eating your mom and slurping ...  \n",
       "9997                        @HullCity @UberEats Ingram!  \n",
       "9998  RT @Kaz7ii: No way Ronaldo's got more Player o...  \n",
       "9999  @UberEats I ordered McDonald’s breakfast a hou...  \n",
       "\n",
       "[10000 rows x 4 columns]"
      ]
     },
     "execution_count": 7,
     "metadata": {},
     "output_type": "execute_result"
    }
   ],
   "source": [
    "df1"
   ]
  },
  {
   "cell_type": "code",
   "execution_count": 8,
   "metadata": {
    "colab": {},
    "colab_type": "code",
    "id": "hFaTwgsImv_R"
   },
   "outputs": [],
   "source": [
    "df1.to_csv(r'C:\\Users\\veera\\Desktop\\UberEats_34.csv')"
   ]
  },
  {
   "cell_type": "code",
   "execution_count": null,
   "metadata": {},
   "outputs": [],
   "source": []
  }
 ],
 "metadata": {
  "colab": {
   "collapsed_sections": [],
   "name": "DisneyPlus",
   "provenance": []
  },
  "kernelspec": {
   "display_name": "Python 3",
   "language": "python",
   "name": "python3"
  },
  "language_info": {
   "codemirror_mode": {
    "name": "ipython",
    "version": 3
   },
   "file_extension": ".py",
   "mimetype": "text/x-python",
   "name": "python",
   "nbconvert_exporter": "python",
   "pygments_lexer": "ipython3",
   "version": "3.8.5"
  }
 },
 "nbformat": 4,
 "nbformat_minor": 1
}
